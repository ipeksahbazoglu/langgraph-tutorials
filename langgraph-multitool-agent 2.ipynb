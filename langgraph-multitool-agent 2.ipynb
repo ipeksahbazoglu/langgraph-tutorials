{
 "cells": [
  {
   "attachments": {},
   "cell_type": "markdown",
   "metadata": {},
   "source": [
    "# LangGraph Tutorial\n",
    "\n",
    "## One Agent and Multiple Tools v.1\n",
    "* Start with an agent, `run_agent`\n",
    "* Agent make a decision to call a function/tool\n",
    "* If so, then `action` to call tool (ToolExecutor)\n",
    "* Then call agent with the tool output added to intermediate_steps (`state`)"
   ]
  },
  {
   "attachments": {},
   "cell_type": "markdown",
   "metadata": {},
   "source": [
    "#### Initiate LLM "
   ]
  },
  {
   "cell_type": "code",
   "execution_count": 1,
   "metadata": {},
   "outputs": [],
   "source": [
    "from langchain_google_vertexai import ChatVertexAI\n",
    "llm = ChatVertexAI(\n",
    "                    model_name= 'gemini-1.5-flash-preview-0514',\n",
    "                    temperature= 0.0,\n",
    "                    top_p=0.8,\n",
    "                    top_k=40,\n",
    "                    verbose= True,\n",
    "                    convert_system_message_to_human=False,\n",
    "                    streaming = True)\n"
   ]
  },
  {
   "attachments": {},
   "cell_type": "markdown",
   "metadata": {},
   "source": [
    "#### Define simple tools using LangChain\n",
    "\n",
    "This @tool decorator is the simplest way to define a custom tool. <br> \n",
    "The decorator uses the function name as the tool name by default, but this can be overridden <br> \n",
    "by passing a string as the first argument. Additionally, the decorator will use the <br> \n",
    "function's docstring as the tool's description - so a docstring MUST be provided."
   ]
  },
  {
   "cell_type": "code",
   "execution_count": 2,
   "metadata": {},
   "outputs": [],
   "source": [
    "from langchain.tools import tool\n",
    "\n",
    "\n",
    "# setup the simple tools using LangChain tool decorator\n",
    "@tool\n",
    "def add(a: int, b: int) -> int:\n",
    "    \"\"\"Add two numbers.\"\"\"\n",
    "    return a + b\n",
    "\n",
    "\n",
    "@tool\n",
    "def multiply(a: int, b: int) -> int:\n",
    "    \"\"\"Multiply two numbers.\"\"\"\n",
    "    return a * b\n",
    "\n",
    "\n",
    "@tool\n",
    "def square(a: int) -> int:\n",
    "    \"\"\"Calculates the square of a number.\"\"\"\n",
    "    a = int(a)\n",
    "    return a * a\n",
    "\n",
    "# setup the toolkit\n",
    "toolkit = [add, multiply, square]\n",
    "\n"
   ]
  },
  {
   "attachments": {},
   "cell_type": "markdown",
   "metadata": {},
   "source": [
    "Inspecting the tools"
   ]
  },
  {
   "cell_type": "code",
   "execution_count": 3,
   "metadata": {},
   "outputs": [
    {
     "name": "stdout",
     "output_type": "stream",
     "text": [
      "multiply\n",
      "Multiply two numbers.\n",
      "{'a': {'title': 'A', 'type': 'integer'}, 'b': {'title': 'B', 'type': 'integer'}}\n",
      "False\n",
      "{'title': 'multiplySchema', 'description': 'Multiply two numbers.', 'type': 'object', 'properties': {'a': {'title': 'A', 'type': 'integer'}, 'b': {'title': 'B', 'type': 'integer'}}, 'required': ['a', 'b']}\n"
     ]
    }
   ],
   "source": [
    "print(multiply.name)\n",
    "print(multiply.description)\n",
    "print(multiply.args)\n",
    "print(multiply.return_direct)\n",
    "print(multiply.args_schema.schema())"
   ]
  },
  {
   "attachments": {},
   "cell_type": "markdown",
   "metadata": {},
   "source": [
    "## LangGraph Nodes\n",
    "\n",
    "A node can be either a function or a runnable (such as an agent, chain etc.) <br>\n",
    "When a node is invoked the function/runnable it corresponds to will receive <br>\n",
    "the graph state (information about past, present, other nodes etc.) <br>\n",
    "The executed node will then update the graph state with its return value. "
   ]
  },
  {
   "attachments": {},
   "cell_type": "markdown",
   "metadata": {},
   "source": [
    "#### Create Agent Runnables (Tool Calling and Structured Output)"
   ]
  },
  {
   "attachments": {},
   "cell_type": "markdown",
   "metadata": {},
   "source": [
    "Tool Calling Agent"
   ]
  },
  {
   "cell_type": "code",
   "execution_count": 4,
   "metadata": {},
   "outputs": [],
   "source": [
    "from langchain.agents import create_tool_calling_agent\n",
    "\n",
    "from langchain_core.prompts import ChatPromptTemplate, MessagesPlaceholder\n",
    "\n",
    "#define system prompt for tool calling agent\n",
    "system_prompt = \"\"\" You are a mathematical assistant.\n",
    "        Use your tools to answer questions. If you do not have a tool to\n",
    "        answer the question, say so. \"\"\"\n",
    "\n",
    "tool_calling_prompt = ChatPromptTemplate.from_messages(\n",
    "    [\n",
    "        (\"system\", system_prompt),\n",
    "        MessagesPlaceholder(\"chat_history\", optional=True),\n",
    "        (\"human\", \"{input}\"),\n",
    "        MessagesPlaceholder(\"agent_scratchpad\"),\n",
    "    ]\n",
    ")\n",
    "\n",
    "tool_runnable = create_tool_calling_agent(llm, toolkit, prompt  = tool_calling_prompt)\n",
    "\n",
    "\n"
   ]
  },
  {
   "attachments": {},
   "cell_type": "markdown",
   "metadata": {},
   "source": [
    "Structured Output Agent"
   ]
  },
  {
   "cell_type": "code",
   "execution_count": 5,
   "metadata": {},
   "outputs": [],
   "source": [
    "from langchain.agents import create_structured_chat_agent\n",
    "from langchain import hub\n",
    "\n",
    "#define system prompt for structured agent - ReAct\n",
    "# you can read the prompt here https://smith.langchain.com/hub/hwchase17/structured-chat-agent\n",
    "\n",
    "structured_agent_prompt = hub.pull(\"hwchase17/structured-chat-agent\")\n",
    "\n",
    "#add custom system message to the default prompt\n",
    "structured_agent_prompt.messages[0].prompt.template = system_prompt + structured_agent_prompt.messages[0].prompt.template\n",
    "\n",
    "# Construct the structured tools agent\n",
    "sca_runnable = create_structured_chat_agent(llm, toolkit, prompt  = structured_agent_prompt)\n"
   ]
  },
  {
   "attachments": {},
   "cell_type": "markdown",
   "metadata": {},
   "source": [
    "\n",
    "Agent runnables return the AgentAction / Tool Agent Action variable which <br> \n",
    "defines but does not execute the next step the agent is going to take <br>\n",
    "The next agent action state will be updated in the graph state"
   ]
  },
  {
   "cell_type": "code",
   "execution_count": 6,
   "metadata": {},
   "outputs": [
    {
     "name": "stderr",
     "output_type": "stream",
     "text": [
      "This model can reply with multiple function calls in one response. Please don't rely on `additional_kwargs.function_call` as only the last one will be saved.Use `tool_calls` instead.\n"
     ]
    }
   ],
   "source": [
    "#returns a list of tool actions\n",
    "tool_actions = tool_runnable.invoke({\"input\": \"hi! what's 1+1 and  2 times 2\", 'intermediate_steps': []})\n",
    "\n",
    "#returns only one action\n",
    "sca_action = sca_runnable.invoke({\"input\": \"hi! what's 1+1 and  2 times 2\", 'intermediate_steps': []})\n"
   ]
  },
  {
   "attachments": {},
   "cell_type": "markdown",
   "metadata": {},
   "source": [
    "Node Functions for Agent Invocations"
   ]
  },
  {
   "cell_type": "code",
   "execution_count": 8,
   "metadata": {},
   "outputs": [],
   "source": [
    "# Define the agent invocation functions\n",
    "# Define which state variable the invocation will read/affect\n",
    "\n",
    "def run_tool_agent(state):\n",
    "    agent_outcome = tool_runnable.invoke(state)\n",
    "\n",
    "    #this agent will overwrite the agent outcome state variable\n",
    "    return {\"agent_outcome\": agent_outcome}\n",
    "\n",
    "def run_sca_agent(state):\n",
    "    agent_outcome = sca_runnable.invoke(state)\n",
    "\n",
    "    #this agent will overwrite the agent outcome state variable\n",
    "    return {\"agent_outcome\": agent_outcome}\n"
   ]
  },
  {
   "attachments": {},
   "cell_type": "markdown",
   "metadata": {},
   "source": [
    "#### Create Tool Executor\n",
    "\n",
    "When this node is called the tool specified in the state <br>\n",
    "will be invoked and the state will be updated with its result"
   ]
  },
  {
   "cell_type": "code",
   "execution_count": 9,
   "metadata": {},
   "outputs": [
    {
     "name": "stdout",
     "output_type": "stream",
     "text": [
      "Action results from tool calling agent: 2\n",
      "Action results from tool calling agent: 4\n",
      "Action results from structured chat agent: 2\n"
     ]
    }
   ],
   "source": [
    "from langgraph.prebuilt.tool_executor import ToolExecutor\n",
    "\n",
    "# tool executor invokes the tool action specified from the agent runnable\n",
    "# they will become the nodes that will be called when the agent decides on a tool action.\n",
    "\n",
    "tool_executor = ToolExecutor(toolkit)\n",
    "\n",
    "#displaying the tool invocation\n",
    "for action in tool_actions:\n",
    "    print(f'Action results from tool calling agent: {tool_executor.invoke(action)}')\n",
    "\n",
    "\n",
    "print(f'Action results from structured chat agent: {tool_executor.invoke(sca_action)}')\n"
   ]
  },
  {
   "attachments": {},
   "cell_type": "markdown",
   "metadata": {},
   "source": [
    "Node Function for Tool Invocation"
   ]
  },
  {
   "cell_type": "code",
   "execution_count": 10,
   "metadata": {},
   "outputs": [],
   "source": [
    "# Define the function to execute tools\n",
    "# This node will run a different tool as specified in the state variable agent_outcome\n",
    "def execute_tools(data):\n",
    "    # Get the most recent agent_outcome - this is the key added in the `agent` above\n",
    "    agent_action = data['agent_outcome']\n",
    "    if type(agent_action) is not list:\n",
    "        agent_action = [agent_action]\n",
    "    steps = []\n",
    "    #sca only returns an action while tool calling returns a list\n",
    "    # convert single actions to a list\n",
    "    \n",
    "    for action in agent_action:\n",
    "    # Execute the tool\n",
    "        output = tool_executor.invoke(action)\n",
    "        print(f\"The agent action is {action}\")\n",
    "        print(f\"The tool result is: {output}\")\n",
    "        steps.append((action, str(output)))\n",
    "    # Return the output\n",
    "    return {\"intermediate_steps\": steps}"
   ]
  },
  {
   "attachments": {},
   "cell_type": "markdown",
   "metadata": {},
   "source": [
    "## Graph State\n",
    "\n",
    "LangGraph passes around information between agents and tools using a state variable <br>\n",
    "The state variable in this example will contain the human input, chat history, intermediate_steps and agent_action <br>\n",
    "The valid variable types must be defined for each state variable."
   ]
  },
  {
   "cell_type": "code",
   "execution_count": 11,
   "metadata": {},
   "outputs": [],
   "source": [
    "from typing import TypedDict, Annotated,Union\n",
    "from langchain_core.agents import AgentAction, AgentFinish\n",
    "from langchain.agents.output_parsers.tools import ToolAgentAction\n",
    "from langchain_core.messages import BaseMessage\n",
    "import operator\n",
    "\n",
    "\n",
    "class AgentState(TypedDict):\n",
    "   # The input string from human\n",
    "   input: str\n",
    "   # The list of previous messages in the conversation\n",
    "   chat_history: list[BaseMessage]\n",
    "   # The outcome of a given call to the agent\n",
    "   # Needs 'list' as a valid type as the tool agent returns a list.\n",
    "   # Needs `None` as a valid type, since this is what this will start as\n",
    "   # this state will be overwritten with the latest everytime the agent is run\n",
    "   agent_outcome: Union[AgentAction, list, ToolAgentAction, AgentFinish, None]\n",
    "\n",
    "   # List of actions and corresponding observations\n",
    "   # These actions should be added onto the existing so we use `operator.add` \n",
    "   # to append to the list of past intermediate steps\n",
    "   intermediate_steps: Annotated[list[Union[tuple[AgentAction, str], tuple[ToolAgentAction, str]]], operator.add]"
   ]
  },
  {
   "attachments": {},
   "cell_type": "markdown",
   "metadata": {},
   "source": [
    "### Edge Logic\n",
    "\n",
    "Edges direct to the next node to invoke given the current node and state. <br>\n",
    "Edges can be static: if at node 1 go to node 2 <br>\n",
    "Edges can be conditional: if at node 1, go to the node the edge logic specifies.<br>\n",
    "Edge logic can be defined using functions with if else statements"
   ]
  },
  {
   "cell_type": "code",
   "execution_count": 12,
   "metadata": {},
   "outputs": [],
   "source": [
    "# Define the flow logic of the graph, \n",
    "# Here we define the logic that determines if we should continue \n",
    "# If agent determines that the human task is done, it returns AgentFinish and \n",
    "# we terminate the graph invocations\n",
    "\n",
    "def should_continue(data):\n",
    "    # If the agent outcome is an AgentFinish, then we return `exit` string\n",
    "    # This will be used when setting up the graph to define the flow\n",
    "    if isinstance(data['agent_outcome'], AgentFinish):\n",
    "        return \"END\"\n",
    "    # Otherwise, an AgentAction is returned\n",
    "    # Here we return `continue` string\n",
    "    # This will be used when setting up the graph to define the flow\n",
    "    else:\n",
    "        return \"CONTINUE\"\n"
   ]
  },
  {
   "attachments": {},
   "cell_type": "markdown",
   "metadata": {},
   "source": [
    "## Build the Graph"
   ]
  },
  {
   "cell_type": "code",
   "execution_count": 18,
   "metadata": {},
   "outputs": [],
   "source": [
    "from langgraph.graph import END, StateGraph\n",
    "\n",
    "# Define a new graph\n",
    "workflow = StateGraph(AgentState)\n",
    "\n",
    "# When nodes are called, the functions corresponding to the tools will be called. \n",
    "# Pick whatever agent you choose and add the node to the graph\n",
    "workflow.add_node(\"agent\", run_sca_agent)\n",
    "\n",
    "# for the tool calling agent uncomment the next line\n",
    "#workflow.add_node(\"agent\", run_tool_agent)\n",
    "\n",
    "\n",
    "# Add tool invocation node to the graph\n",
    "workflow.add_node(\"action\", execute_tools)\n",
    "\n",
    "# Define which node the graph will invoke at start.\n",
    "workflow.set_entry_point(\"agent\")\n",
    "\n",
    "# Add flow logic with static edge.\n",
    "# Each time a tool is invoked and completed we want to \n",
    "# return the result to the agent to assess if task is complete or to take further actions \n",
    "\n",
    "#each action invocation has an edge leading to the agent node.\n",
    "workflow.add_edge('action', 'agent')\n",
    "\n",
    "\n",
    "# Add flow logic with conditional edge.\n",
    "workflow.add_conditional_edges(\n",
    "    # first parameter is the starting node for the edge\n",
    "    \"agent\",\n",
    "    # the second parameter specifies the logic function to be run\n",
    "    # to determine which node the edge will point to given the state.\n",
    "    should_continue,\n",
    "\n",
    "    #third parameter defines the mapping between the logic function \n",
    "    #output and the nodes on the graph\n",
    "    # For each possible output of the logic function there must be a valid node.\n",
    "    {\n",
    "        # If 'continue' we proceed to the action node.\n",
    "        \"CONTINUE\": \"action\",\n",
    "        # Otherwise we end invocations with the END node.\n",
    "        \"END\": END\n",
    "    }\n",
    ")\n"
   ]
  },
  {
   "attachments": {},
   "cell_type": "markdown",
   "metadata": {},
   "source": [
    "### Adding Memory\n",
    "\n",
    "by setting a checkpointer when compiling the graph and a thread_id when <br>\n",
    "calling your graph, LangGraph automatically saves the state after each step. <br>\n",
    "When you invoke the graph again using the same thread_id, the graph loads its <br>\n",
    "saved state, allowing the chatbot to pick up where it left off."
   ]
  },
  {
   "cell_type": "code",
   "execution_count": 14,
   "metadata": {},
   "outputs": [],
   "source": [
    "from langgraph.checkpoint import MemorySaver\n",
    "\n",
    "memory = MemorySaver()\n",
    "\n",
    "# Finally, compile the graph! \n",
    "# This compiles it into a LangChain Runnable,\n",
    "app = workflow.compile(checkpointer = memory)"
   ]
  },
  {
   "attachments": {},
   "cell_type": "markdown",
   "metadata": {},
   "source": [
    "### Visualise the Graph"
   ]
  },
  {
   "cell_type": "code",
   "execution_count": 15,
   "metadata": {},
   "outputs": [
    {
     "data": {
      "image/jpeg": "[encoded data removed]",
      "text/plain": [
       "<IPython.core.display.Image object>"
      ]
     },
     "metadata": {},
     "output_type": "display_data"
    }
   ],
   "source": [
    "from IPython.display import Image, display\n",
    "\n",
    "try:\n",
    "    display(Image(app.get_graph().draw_mermaid_png()))\n",
    "except Exception:\n",
    "    # This requires some extra dependencies and is optional\n",
    "    pass"
   ]
  },
  {
   "attachments": {},
   "cell_type": "markdown",
   "metadata": {},
   "source": [
    "### Test Run the Graph by Streaming"
   ]
  },
  {
   "cell_type": "code",
   "execution_count": 16,
   "metadata": {},
   "outputs": [
    {
     "name": "stdout",
     "output_type": "stream",
     "text": [
      "{'agent_outcome': AgentAction(tool='add', tool_input={'a': 1, 'b': 1}, log='```json\\n{\\n  \"action\": \"add\",\\n  \"action_input\": {\\n    \"a\": 1,\\n    \"b\": 1\\n  }\\n}\\n```')}\n",
      "----\n",
      "The agent action is tool='add' tool_input={'a': 1, 'b': 1} log='```json\\n{\\n  \"action\": \"add\",\\n  \"action_input\": {\\n    \"a\": 1,\\n    \"b\": 1\\n  }\\n}\\n```'\n",
      "The tool result is: 2\n",
      "{'intermediate_steps': [(AgentAction(tool='add', tool_input={'a': 1, 'b': 1}, log='```json\\n{\\n  \"action\": \"add\",\\n  \"action_input\": {\\n    \"a\": 1,\\n    \"b\": 1\\n  }\\n}\\n```'), '2')]}\n",
      "----\n",
      "{'agent_outcome': AgentAction(tool='multiply', tool_input={'a': 2, 'b': 2}, log='```json\\n{\\n  \"action\": \"multiply\",\\n  \"action_input\": {\\n    \"a\": 2,\\n    \"b\": 2\\n  }\\n}\\n```')}\n",
      "----\n",
      "The agent action is tool='multiply' tool_input={'a': 2, 'b': 2} log='```json\\n{\\n  \"action\": \"multiply\",\\n  \"action_input\": {\\n    \"a\": 2,\\n    \"b\": 2\\n  }\\n}\\n```'\n",
      "The tool result is: 4\n",
      "{'intermediate_steps': [(AgentAction(tool='multiply', tool_input={'a': 2, 'b': 2}, log='```json\\n{\\n  \"action\": \"multiply\",\\n  \"action_input\": {\\n    \"a\": 2,\\n    \"b\": 2\\n  }\\n}\\n```'), '4')]}\n",
      "----\n",
      "{'agent_outcome': AgentFinish(return_values={'output': '1+1 is 2, and 2 times 2 is 4.'}, log='```json\\n{\\n  \"action\": \"Final Answer\",\\n  \"action_input\": \"1+1 is 2, and 2 times 2 is 4.\"\\n}\\n```')}\n",
      "----\n"
     ]
    }
   ],
   "source": [
    "inputs = {\"input\": \"give me 1+1 and then 2 times 2\", \"chat_history\": []} \n",
    "config = {\"configurable\": {\"thread_id\": \"1\"}}\n",
    "\n",
    "for s in app.stream(inputs, config = config):\n",
    "    print(list(s.values())[0])\n",
    "    print(\"----\")"
   ]
  },
  {
   "attachments": {},
   "cell_type": "markdown",
   "metadata": {},
   "source": [
    "Test Memory is Working"
   ]
  },
  {
   "cell_type": "code",
   "execution_count": 21,
   "metadata": {},
   "outputs": [
    {
     "name": "stdout",
     "output_type": "stream",
     "text": [
      "{'agent_outcome': AgentFinish(return_values={'output': 'The last result was 4.'}, log='```json\\n{\\n  \"action\": \"Final Answer\",\\n  \"action_input\": \"The last result was 4.\"\\n}\\n```')}\n",
      "----\n"
     ]
    }
   ],
   "source": [
    "inputs = {\"input\": \"what was the last result\", \"chat_history\": []} \n",
    "config = {\"configurable\": {\"thread_id\": \"1\"}}\n",
    "\n",
    "for s in app.stream(inputs, config = config):\n",
    "    print(list(s.values())[0])\n",
    "    print(\"----\")"
   ]
  },
  {
   "attachments": {},
   "cell_type": "markdown",
   "metadata": {},
   "source": [
    "Invoke Graph without Streaming just for the Output"
   ]
  },
  {
   "cell_type": "code",
   "execution_count": 22,
   "metadata": {},
   "outputs": [
    {
     "name": "stdout",
     "output_type": "stream",
     "text": [
      "The agent action is tool='add' tool_input={'a': 1, 'b': 1} log='```json\\n{\\n  \"action\": \"add\",\\n  \"action_input\": {\\n    \"a\": 1,\\n    \"b\": 1\\n  }\\n}\\n```'\n",
      "The tool result is: 2\n",
      "The agent action is tool='multiply' tool_input={'a': 2, 'b': 2} log='```json\\n{\\n  \"action\": \"multiply\",\\n  \"action_input\": {\\n    \"a\": 2,\\n    \"b\": 2\\n  }\\n}\\n```'\n",
      "The tool result is: 4\n",
      "{'input': 'give me 1+1 and then 2 times 2', 'chat_history': [], 'agent_outcome': AgentFinish(return_values={'output': '1+1 is 2, and 2 times 2 is 4.'}, log='```json\\n{\\n  \"action\": \"Final Answer\",\\n  \"action_input\": \"1+1 is 2, and 2 times 2 is 4.\"\\n}\\n```'), 'intermediate_steps': [(AgentAction(tool='add', tool_input={'a': 1, 'b': 1}, log='```json\\n{\\n  \"action\": \"add\",\\n  \"action_input\": {\\n    \"a\": 1,\\n    \"b\": 1\\n  }\\n}\\n```'), '2'), (AgentAction(tool='multiply', tool_input={'a': 2, 'b': 2}, log='```json\\n{\\n  \"action\": \"multiply\",\\n  \"action_input\": {\\n    \"a\": 2,\\n    \"b\": 2\\n  }\\n}\\n```'), '4')]}\n"
     ]
    }
   ],
   "source": [
    "inputs = {\"input\": \"give me 1+1 and then 2 times 2\", \"chat_history\": []} \n",
    "config = {\"configurable\": {\"thread_id\": \"2\"}}\n",
    "output = app.invoke(inputs, config = config)\n",
    "print(output)"
   ]
  },
  {
   "attachments": {},
   "cell_type": "markdown",
   "metadata": {},
   "source": [
    "## One Agent Multiple Tools v.2\n",
    "\n",
    "Invoke the LLM with binded Tools\n",
    "* Start with an LLM with tools, `invoke_LLM`\n",
    "* LLM makes a decision to call a function/tool\n",
    "* If so, then `action` to call tool (ToolExecutor)\n",
    "* Then call LLM with the tool output added to messages (`state`)"
   ]
  },
  {
   "cell_type": "code",
   "execution_count": 23,
   "metadata": {},
   "outputs": [
    {
     "name": "stderr",
     "output_type": "stream",
     "text": [
      "This model can reply with multiple function calls in one response. Please don't rely on `additional_kwargs.function_call` as only the last one will be saved.Use `tool_calls` instead.\n"
     ]
    },
    {
     "name": "stdout",
     "output_type": "stream",
     "text": [
      "content='' additional_kwargs={'function_call': {'name': 'multiply', 'arguments': '{\"a\": 2.0, \"b\": 2.0}'}} response_metadata={'is_blocked': False, 'safety_ratings': [{'category': 'HARM_CATEGORY_HATE_SPEECH', 'probability_label': 'NEGLIGIBLE', 'blocked': False}, {'category': 'HARM_CATEGORY_DANGEROUS_CONTENT', 'probability_label': 'NEGLIGIBLE', 'blocked': False}, {'category': 'HARM_CATEGORY_HARASSMENT', 'probability_label': 'NEGLIGIBLE', 'blocked': False}, {'category': 'HARM_CATEGORY_SEXUALLY_EXPLICIT', 'probability_label': 'NEGLIGIBLE', 'blocked': False}]} id='run-26d76e8c-e481-4387-82bd-0419b367050a-0' tool_calls=[{'name': 'add', 'args': {'a': 1.0, 'b': 1.0}, 'id': '3c33db72-d416-4ae6-8e95-795ee7b59192', 'type': 'tool_call'}, {'name': 'multiply', 'args': {'a': 2.0, 'b': 2.0}, 'id': 'eaed2556-574a-4ea1-9714-8a4c4a4b8a24', 'type': 'tool_call'}] usage_metadata={'input_tokens': 53, 'output_tokens': 6, 'total_tokens': 59}\n",
      "<class 'langchain_core.messages.ai.AIMessage'>\n"
     ]
    }
   ],
   "source": [
    "llm_w_tools = llm.bind_tools(toolkit)\n",
    "llm_output = llm_w_tools.invoke('1+1 and 2*2')\n",
    "\n",
    "#display invocation output\n",
    "print(llm_output)\n",
    "#display type of message returned\n",
    "print(type(llm_output))"
   ]
  },
  {
   "attachments": {},
   "cell_type": "markdown",
   "metadata": {},
   "source": [
    "Tool invocations will be in tool_calls, the latest tool call will be under additional kwargs, function_call"
   ]
  },
  {
   "cell_type": "code",
   "execution_count": 24,
   "metadata": {},
   "outputs": [
    {
     "name": "stdout",
     "output_type": "stream",
     "text": [
      "[{'name': 'add', 'args': {'a': 1.0, 'b': 1.0}, 'id': '3c33db72-d416-4ae6-8e95-795ee7b59192', 'type': 'tool_call'}, {'name': 'multiply', 'args': {'a': 2.0, 'b': 2.0}, 'id': 'eaed2556-574a-4ea1-9714-8a4c4a4b8a24', 'type': 'tool_call'}]\n",
      "{'name': 'multiply', 'arguments': '{\"a\": 2.0, \"b\": 2.0}'}\n"
     ]
    }
   ],
   "source": [
    "print(llm_output.tool_calls)\n",
    "print(llm_output.additional_kwargs['function_call'])"
   ]
  },
  {
   "attachments": {},
   "cell_type": "markdown",
   "metadata": {},
   "source": [
    "Agent and Tool Nodes"
   ]
  },
  {
   "cell_type": "code",
   "execution_count": 25,
   "metadata": {},
   "outputs": [],
   "source": [
    "from langgraph.prebuilt import ToolInvocation\n",
    "from langchain_core.messages import FunctionMessage\n",
    "\n",
    "#invoke LLM node\n",
    "def invoke_LLM(state):\n",
    "    #read the message history\n",
    "    messages = state['messages']\n",
    "    response = llm_w_tools.invoke(messages)\n",
    "    #update messages state by appending the latest response\n",
    "    return {'messages': [response]}\n",
    "\n",
    "\n",
    "tool_executor = ToolExecutor(toolkit)\n",
    "\n",
    "#invoke tool node\n",
    "def call_tool(state):\n",
    "    #read message history\n",
    "    messages = state['messages']\n",
    "\n",
    "    #if latest message is an AI message calling tools, invoke them.\n",
    "    last_message = messages[-1]\n",
    "    function_messages = []\n",
    "    tool_calls = last_message.tool_calls\n",
    "    for tool_call in tool_calls:\n",
    "        action = ToolInvocation(tool = tool_call['name'], \n",
    "                                tool_input= tool_call['args'])\n",
    "        response = tool_executor.invoke(action)\n",
    "        #print(f'tool result is {response}')\n",
    "        function_message = FunctionMessage(content = str(response), name = action.tool)\n",
    "        function_messages.append(function_message)\n",
    "    return {'messages': function_messages}\n"
   ]
  },
  {
   "cell_type": "code",
   "execution_count": 26,
   "metadata": {},
   "outputs": [
    {
     "name": "stdout",
     "output_type": "stream",
     "text": [
      "{'messages': [FunctionMessage(content='2', name='add'), FunctionMessage(content='4', name='multiply')]}\n"
     ]
    }
   ],
   "source": [
    "#display tool calling node output\n",
    "print(call_tool({'messages': [llm_output]}))"
   ]
  },
  {
   "attachments": {},
   "cell_type": "markdown",
   "metadata": {},
   "source": [
    "#### Graph State\n",
    "All information we need to run the graph will be in the messages passed <br>\n",
    "between the user and the AI so we only need one state variable"
   ]
  },
  {
   "cell_type": "code",
   "execution_count": 27,
   "metadata": {},
   "outputs": [],
   "source": [
    "from typing import TypedDict, Annotated, Sequence\n",
    "from langchain_core.messages import BaseMessage\n",
    "import operator\n",
    "\n",
    "\n",
    "class AgentState(TypedDict):\n",
    "   #a list of messages sent between the agent and user.\n",
    "   #can be a human message, can be an AI message\n",
    "   #new messages will be appended to the list.\n",
    "   messages: Annotated[Sequence[BaseMessage], operator.add]\n"
   ]
  },
  {
   "attachments": {},
   "cell_type": "markdown",
   "metadata": {},
   "source": [
    "#### Edge Logic"
   ]
  },
  {
   "cell_type": "code",
   "execution_count": 28,
   "metadata": {},
   "outputs": [],
   "source": [
    "def should_continue(state):\n",
    "\n",
    "    messages = state['messages']\n",
    "    last_message = messages[-1]\n",
    "\n",
    "    #if no tool is called agent can respond to the query \n",
    "    #on its own therefore the agent invocation is the end\n",
    "\n",
    "    #otherwise we continue to tools\n",
    "\n",
    "    if 'function_call' not in last_message.additional_kwargs:\n",
    "        return 'END'\n",
    "    else:\n",
    "        return 'CONTINUE'\n",
    "    "
   ]
  },
  {
   "cell_type": "code",
   "execution_count": 29,
   "metadata": {},
   "outputs": [],
   "source": [
    "from langgraph.graph import StateGraph, END\n",
    "# Define a new graph\n",
    "workflow = StateGraph(AgentState)\n",
    "\n",
    "# Define the two nodes we will cycle between\n",
    "workflow.add_node(\"LLM\", invoke_LLM)\n",
    "workflow.add_node(\"action\", call_tool)\n",
    "\n",
    "# Set the entrypoint as `agent` where we start\n",
    "workflow.set_entry_point(\"LLM\")\n",
    "\n",
    "# We now add a conditional edge\n",
    "workflow.add_conditional_edges(\n",
    "    # First, we define the start node. We use `agent`.\n",
    "    # This means these are the edges taken after the `agent` node is called.\n",
    "    \"LLM\",\n",
    "    # Next, we pass in the function that will determine which node is called next.\n",
    "    should_continue,\n",
    "    # Finally we pass in a mapping.\n",
    "    # The keys are strings, and the values are other nodes.\n",
    "    # END is a special node marking that the graph should finish.\n",
    "    # What will happen is we will call `should_continue`, and then the output of that\n",
    "    # will be matched against the keys in this mapping.\n",
    "    # Based on which one it matches, that node will then be called.\n",
    "    {\n",
    "        # If `tools`, then we call the tool node.\n",
    "        \"CONTINUE\": \"action\",\n",
    "        # Otherwise we finish.\n",
    "        \"END\": END\n",
    "    }\n",
    ")\n",
    "\n",
    "# We now add a normal edge from `tools` to `agent`.\n",
    "# This means that after `tools` is called, `agent` node is called next.\n",
    "workflow.add_edge('action', 'LLM')\n",
    "\n",
    "# Finally, we compile it!\n",
    "# This compiles it into a LangChain Runnable,\n",
    "# meaning you can use it as you would any other runnable\n",
    "app = workflow.compile()"
   ]
  },
  {
   "cell_type": "code",
   "execution_count": 30,
   "metadata": {},
   "outputs": [
    {
     "name": "stderr",
     "output_type": "stream",
     "text": [
      "This model can reply with multiple function calls in one response. Please don't rely on `additional_kwargs.function_call` as only the last one will be saved.Use `tool_calls` instead.\n"
     ]
    },
    {
     "data": {
      "text/plain": [
       "{'messages': [SystemMessage(content='You are a helpful calculator assistant'),\n",
       "  HumanMessage(content='what is 1+1 and 2*2'),\n",
       "  AIMessage(content='', additional_kwargs={'function_call': {'name': 'multiply', 'arguments': '{\"a\": 2.0, \"b\": 2.0}'}}, response_metadata={'is_blocked': False, 'safety_ratings': [{'category': 'HARM_CATEGORY_HATE_SPEECH', 'probability_label': 'NEGLIGIBLE', 'blocked': False}, {'category': 'HARM_CATEGORY_DANGEROUS_CONTENT', 'probability_label': 'NEGLIGIBLE', 'blocked': False}, {'category': 'HARM_CATEGORY_HARASSMENT', 'probability_label': 'NEGLIGIBLE', 'blocked': False}, {'category': 'HARM_CATEGORY_SEXUALLY_EXPLICIT', 'probability_label': 'NEGLIGIBLE', 'blocked': False}]}, id='run-ccbc44c3-2bd6-41c4-ae7f-3023d7e0171a-0', tool_calls=[{'name': 'add', 'args': {'a': 1.0, 'b': 1.0}, 'id': '99528dca-0721-4afe-8bb0-fea574462c46', 'type': 'tool_call'}, {'name': 'multiply', 'args': {'a': 2.0, 'b': 2.0}, 'id': '4c405995-104f-4b6c-b9f0-f5b98951b70d', 'type': 'tool_call'}], usage_metadata={'input_tokens': 62, 'output_tokens': 6, 'total_tokens': 68}),\n",
       "  FunctionMessage(content='2', name='add'),\n",
       "  FunctionMessage(content='4', name='multiply'),\n",
       "  AIMessage(content='1+1 is 2 and 2*2 is 4. \\n', response_metadata={'is_blocked': False, 'safety_ratings': [{'category': 'HARM_CATEGORY_HATE_SPEECH', 'probability_label': 'NEGLIGIBLE', 'blocked': False}, {'category': 'HARM_CATEGORY_DANGEROUS_CONTENT', 'probability_label': 'NEGLIGIBLE', 'blocked': False}, {'category': 'HARM_CATEGORY_HARASSMENT', 'probability_label': 'NEGLIGIBLE', 'blocked': False}, {'category': 'HARM_CATEGORY_SEXUALLY_EXPLICIT', 'probability_label': 'NEGLIGIBLE', 'blocked': False}]}, id='run-24434079-f48f-40ba-bc1e-8ad69da242c2-0', usage_metadata={'input_tokens': 74, 'output_tokens': 17, 'total_tokens': 91})]}"
      ]
     },
     "execution_count": 30,
     "metadata": {},
     "output_type": "execute_result"
    }
   ],
   "source": [
    "from langchain_core.messages import HumanMessage, SystemMessage\n",
    "\n",
    "# Can add system message for the LLM \n",
    "system_message = SystemMessage(content=\"You are a helpful calculator assistant\")\n",
    "human_message = HumanMessage(content=\"what is 1+1 and 2*2\")\n",
    "\n",
    "\n",
    "inputs = {\"messages\": [system_message,human_message]}\n",
    "\n",
    "app.invoke(inputs)"
   ]
  },
  {
   "attachments": {},
   "cell_type": "markdown",
   "metadata": {},
   "source": [
    "#### Visualise Agent"
   ]
  },
  {
   "cell_type": "code",
   "execution_count": 31,
   "metadata": {},
   "outputs": [
    {
     "data": {
      "image/jpeg": "[encoded data removed]",
      "text/plain": [
       "<IPython.core.display.Image object>"
      ]
     },
     "metadata": {},
     "output_type": "display_data"
    }
   ],
   "source": [
    "from IPython.display import Image, display\n",
    "\n",
    "try:\n",
    "    display(Image(app.get_graph().draw_mermaid_png()))\n",
    "except Exception:\n",
    "    # This requires some extra dependencies and is optional\n",
    "    pass"
   ]
  }
 ],
 "metadata": {
  "kernelspec": {
   "display_name": "Python 3",
   "language": "python",
   "name": "python3"
  },
  "language_info": {
   "codemirror_mode": {
    "name": "ipython",
    "version": 3
   },
   "file_extension": ".py",
   "mimetype": "text/x-python",
   "name": "python",
   "nbconvert_exporter": "python",
   "pygments_lexer": "ipython3",
   "version": "3.11.9"
  }
 },
 "nbformat": 4,
 "nbformat_minor": 2
}
