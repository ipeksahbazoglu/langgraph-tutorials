{
 "cells": [
  {
   "attachments": {},
   "cell_type": "markdown",
   "id": "992fb40e",
   "metadata": {},
   "source": [
    "# Agent Supervisor Flow with LangGraph\n",
    "\n",
    "* Start with an agent supervisor, `call_supervisor`\n",
    "* Supervisor makes a decision to route to another agent or finish\n",
    "* If agent, then `call_agent` to invoke the agent\n",
    "* Then call supervisor with the agent output added to to agent_history `state`"
   ]
  },
  {
   "attachments": {},
   "cell_type": "markdown",
   "id": "4f8f7f8f",
   "metadata": {},
   "source": [
    "Initiate LLM"
   ]
  },
  {
   "cell_type": "code",
   "execution_count": 1,
   "id": "2cc9ee89",
   "metadata": {},
   "outputs": [],
   "source": [
    "from langchain_google_vertexai import ChatVertexAI\n",
    "\n",
    "llm = ChatVertexAI(\n",
    "                    model_name= 'gemini-1.5-flash-preview-0514',\n",
    "                    temperature= 0.0,\n",
    "                    top_p=0.8,\n",
    "                    top_k=40,\n",
    "                    verbose= True,\n",
    "                    convert_system_message_to_human=False,\n",
    "                    streaming = True, \n",
    "                    #set max_output_tokens to avoid random cut-offs of agent responses\n",
    "                    max_output_tokens = 8000)"
   ]
  },
  {
   "attachments": {},
   "cell_type": "markdown",
   "id": "3dff62d0",
   "metadata": {},
   "source": [
    "#### Agent Nodes \n",
    "Here we define the crew of agents available to the supervisor"
   ]
  },
  {
   "attachments": {},
   "cell_type": "markdown",
   "id": "998edcd6",
   "metadata": {},
   "source": [
    "Helper function to create agents:<br>\n",
    "Adds default prompt, and customised agent prompt as system message<br>\n",
    "Returns executor"
   ]
  },
  {
   "cell_type": "code",
   "execution_count": 2,
   "id": "ef8b030e",
   "metadata": {},
   "outputs": [],
   "source": [
    "from langchain.agents import AgentExecutor, create_tool_calling_agent\n",
    "from langchain_core.prompts import ChatPromptTemplate, MessagesPlaceholder, PromptTemplate, SystemMessagePromptTemplate\n",
    "\n",
    "def create_tool_agent(llm: ChatVertexAI, tools: list, system_prompt: str):\n",
    "    \"\"\"Helper function to create agents with custom tools and system prompt\n",
    "    Args:\n",
    "        llm (ChatVertexAI): LLM for the agent\n",
    "        tools (list): list of tools the agent will use\n",
    "        system_prompt (str): text describing specific agent purpose\n",
    "\n",
    "    Returns:\n",
    "        executor (AgentExecutor): Runnable for the agent created.\n",
    "    \"\"\"\n",
    "    \n",
    "    # Each worker node will be given a name and some tools.\n",
    "    \n",
    "    system_prompt_template = PromptTemplate(\n",
    "\n",
    "                template= system_prompt + \"\"\"\n",
    "                ONLY respond to the part of query relevant to your purpose.\n",
    "                IGNORE tasks you can't complete. \n",
    "                Use the following agent history to answer your query if available: \\n {agent_history} \\n\n",
    "                \"\"\",\n",
    "                input_variables=[\"agent_history\"],\n",
    "            )\n",
    "\n",
    "    #define system message\n",
    "    system_message_prompt = SystemMessagePromptTemplate(prompt=system_prompt_template)\n",
    "\n",
    "    prompt = ChatPromptTemplate.from_messages(\n",
    "        [system_message_prompt,\n",
    "            MessagesPlaceholder(variable_name=\"messages\"),\n",
    "            MessagesPlaceholder(variable_name=\"agent_scratchpad\"),\n",
    "        ]\n",
    "    )\n",
    "    agent = create_tool_calling_agent(llm, tools, prompt)\n",
    "    executor = AgentExecutor(agent=agent, tools=tools, return_intermediate_steps= True, verbose = False)\n",
    "    return executor"
   ]
  },
  {
   "attachments": {},
   "cell_type": "markdown",
   "id": "2d97c513",
   "metadata": {},
   "source": [
    "Create Calculator Agent <br>\n",
    "Create tools, define system prompt"
   ]
  },
  {
   "cell_type": "code",
   "execution_count": 3,
   "id": "f7ee74ad",
   "metadata": {},
   "outputs": [],
   "source": [
    "from langchain.tools import tool\n",
    "\n",
    "\n",
    "# setup the simple tools using LangChain tool decorator\n",
    "@tool\n",
    "def add(a: int, b: int) -> int:\n",
    "    \"\"\"Add two numbers.\"\"\"\n",
    "    return a + b\n",
    "\n",
    "\n",
    "@tool\n",
    "def multiply(a: int, b: int) -> int:\n",
    "    \"\"\"Multiply two numbers.\"\"\"\n",
    "    return a * b\n",
    "\n",
    "\n",
    "@tool\n",
    "def square(a: int) -> int:\n",
    "    \"\"\"Calculates the square of a number.\"\"\"\n",
    "    a = int(a)\n",
    "    return a * a\n",
    "\n",
    "# setup the toolkit\n",
    "math_toolkit = [add, multiply, square]\n",
    "\n",
    "\n",
    "#define system prompt for tool calling agent\n",
    "system_prompt = \"\"\" You are a mathematical assistant.\n",
    "        Use your tools to answer questions. If you do not have a tool to\n",
    "        answer the question, say so. \"\"\"\n",
    "\n",
    "math_agent = create_tool_agent(llm=llm, tools = math_toolkit, system_prompt = system_prompt)"
   ]
  },
  {
   "attachments": {},
   "cell_type": "markdown",
   "id": "f9de3cd6",
   "metadata": {},
   "source": [
    "Define Text Editor Agent <br>\n",
    "Create tools, define system prompt"
   ]
  },
  {
   "cell_type": "code",
   "execution_count": 4,
   "id": "ab757dab",
   "metadata": {},
   "outputs": [],
   "source": [
    "from langchain.tools import tool\n",
    "\n",
    "\n",
    "# setup the simple tools using LangChain tool decorator\n",
    "@tool\n",
    "def make_upper_case(text: str) -> str:\n",
    "    \"\"\" convert string to all upper case string\"\"\"\n",
    "    return text.upper()\n",
    "\n",
    "\n",
    "@tool\n",
    "def make_lower_case(text: str) -> str:\n",
    "    \"\"\" convert string to all lower case string\"\"\"\n",
    "    return text.lower()\n",
    "\n",
    "@tool\n",
    "def add_smiley(text: str) -> str:\n",
    "    \"\"\" add smiley face to the end of string\"\"\"\n",
    "    return text + ' :)'\n",
    "\n",
    "\n",
    "# setup the toolkit\n",
    "text_toolkit = [make_upper_case, make_lower_case, add_smiley]\n",
    "\n",
    "\n",
    "#define system prompt for tool calling agent\n",
    "system_prompt = \"\"\" You are a text editor assistant.\n",
    "        Use your tools to complete requests. If you do not have a tool to\n",
    "       complete the request, say so. \"\"\"\n",
    "\n",
    "text_agent = create_tool_agent(llm=llm, tools = text_toolkit, system_prompt = system_prompt)"
   ]
  },
  {
   "attachments": {},
   "cell_type": "markdown",
   "id": "3cd149d9",
   "metadata": {},
   "source": [
    "Define Communications Agent <br>\n",
    "this agent will read the conversation history and communicate results to the user. "
   ]
  },
  {
   "cell_type": "code",
   "execution_count": 5,
   "id": "b5acbcce",
   "metadata": {},
   "outputs": [],
   "source": [
    "from langchain_core.messages import AIMessage\n",
    "from langchain_core.pydantic_v1 import BaseModel, Field\n",
    "from langchain_core.output_parsers import JsonOutputParser\n",
    "\n",
    "#define output structure\n",
    "class CommsOutput(BaseModel):\n",
    "    messages: AIMessage = Field(description = 'Friendly and helpful agent response to the human query')\n",
    "\n",
    "#create the parser for the chain based on specified output\n",
    "comms_parser = JsonOutputParser(pydantic_object=CommsOutput)\n",
    "\n",
    "system_prompt_template = PromptTemplate(\n",
    "\n",
    "                template= \"\"\" You are a talkative and helpful assistant that summarises agent history \n",
    "                            in response to the original user query below. \n",
    "                            SUMMARISE ALL THE OUTPUTS AND TOOLS USED in agent_history.\n",
    "                            The agent history is as follows: \n",
    "                        \\n{agent_history}\\n\"\"\",\n",
    "                input_variables=[\"agent_history\"],  )\n",
    "\n",
    "system_message_prompt = SystemMessagePromptTemplate(prompt=system_prompt_template)\n",
    "\n",
    "prompt = ChatPromptTemplate.from_messages(\n",
    "    [\n",
    "        system_message_prompt,\n",
    "        MessagesPlaceholder(variable_name=\"messages\"),\n",
    "    ])\n",
    "\n",
    "comms_agent = (prompt| llm) "
   ]
  },
  {
   "attachments": {},
   "cell_type": "markdown",
   "id": "80d8fba2",
   "metadata": {},
   "source": [
    "Test communications agent"
   ]
  },
  {
   "cell_type": "code",
   "execution_count": 6,
   "id": "b319368b",
   "metadata": {},
   "outputs": [
    {
     "name": "stdout",
     "output_type": "stream",
     "text": [
      "{'messages': [HumanMessage(content=' Hi! can you capitalise this: banana')], 'agent_history': [], 'output': 'BANANA \\n', 'intermediate_steps': [(ToolAgentAction(tool='make_upper_case', tool_input={'text': 'banana'}, log=\"\\nInvoking: `make_upper_case` with `{'text': 'banana'}`\\n\\n\\n\", message_log=[AIMessageChunk(content='', additional_kwargs={'function_call': {'name': 'make_upper_case', 'arguments': '{\"text\": \"banana\"}'}}, response_metadata={'safety_ratings': [{'category': 'HARM_CATEGORY_HATE_SPEECH', 'probability_label': 'NEGLIGIBLE', 'blocked': False, 'severity': 'HARM_SEVERITY_NEGLIGIBLE'}, {'category': 'HARM_CATEGORY_DANGEROUS_CONTENT', 'probability_label': 'NEGLIGIBLE', 'blocked': False, 'severity': 'HARM_SEVERITY_LOW'}, {'category': 'HARM_CATEGORY_HARASSMENT', 'probability_label': 'NEGLIGIBLE', 'blocked': False, 'severity': 'HARM_SEVERITY_NEGLIGIBLE'}, {'category': 'HARM_CATEGORY_SEXUALLY_EXPLICIT', 'probability_label': 'NEGLIGIBLE', 'blocked': False, 'severity': 'HARM_SEVERITY_NEGLIGIBLE'}], 'usage_metadata': {'prompt_token_count': 129, 'candidates_token_count': 7, 'total_token_count': 136}, 'finish_reason': 'STOP'}, id='run-73e33a08-222f-4435-9267-56e696577252', tool_calls=[{'name': 'make_upper_case', 'args': {'text': 'banana'}, 'id': '5dc9f48c-9ef0-4b5c-8b89-8811eb9f0127', 'type': 'tool_call'}], usage_metadata={'input_tokens': 129, 'output_tokens': 7, 'total_tokens': 136}, tool_call_chunks=[{'name': 'make_upper_case', 'args': '{\"text\": \"banana\"}', 'id': '5dc9f48c-9ef0-4b5c-8b89-8811eb9f0127', 'index': None, 'type': 'tool_call_chunk'}])], tool_call_id='5dc9f48c-9ef0-4b5c-8b89-8811eb9f0127'), 'BANANA')]}\n",
      "content='I am doing well, thank you for asking! \\n\\nI can definitely capitalize that for you.  I used a tool called `make_upper_case` to do it.  The tool took the input \"banana\" and returned \"BANANA\". \\n' response_metadata={'safety_ratings': [{'category': 'HARM_CATEGORY_HATE_SPEECH', 'probability_label': 'NEGLIGIBLE', 'blocked': False, 'severity': 'HARM_SEVERITY_NEGLIGIBLE'}, {'category': 'HARM_CATEGORY_DANGEROUS_CONTENT', 'probability_label': 'NEGLIGIBLE', 'blocked': False, 'severity': 'HARM_SEVERITY_NEGLIGIBLE'}, {'category': 'HARM_CATEGORY_HARASSMENT', 'probability_label': 'NEGLIGIBLE', 'blocked': False, 'severity': 'HARM_SEVERITY_NEGLIGIBLE'}, {'category': 'HARM_CATEGORY_SEXUALLY_EXPLICIT', 'probability_label': 'NEGLIGIBLE', 'blocked': False, 'severity': 'HARM_SEVERITY_NEGLIGIBLE'}, {'category': 'HARM_CATEGORY_HATE_SPEECH', 'probability_label': 'NEGLIGIBLE', 'blocked': False, 'severity': 'HARM_SEVERITY_NEGLIGIBLE'}, {'category': 'HARM_CATEGORY_DANGEROUS_CONTENT', 'probability_label': 'NEGLIGIBLE', 'blocked': False, 'severity': 'HARM_SEVERITY_NEGLIGIBLE'}, {'category': 'HARM_CATEGORY_HARASSMENT', 'probability_label': 'NEGLIGIBLE', 'blocked': False, 'severity': 'HARM_SEVERITY_NEGLIGIBLE'}, {'category': 'HARM_CATEGORY_SEXUALLY_EXPLICIT', 'probability_label': 'NEGLIGIBLE', 'blocked': False, 'severity': 'HARM_SEVERITY_NEGLIGIBLE'}, {'category': 'HARM_CATEGORY_HATE_SPEECH', 'probability_label': 'NEGLIGIBLE', 'blocked': False, 'severity': 'HARM_SEVERITY_NEGLIGIBLE'}, {'category': 'HARM_CATEGORY_DANGEROUS_CONTENT', 'probability_label': 'NEGLIGIBLE', 'blocked': False, 'severity': 'HARM_SEVERITY_NEGLIGIBLE'}, {'category': 'HARM_CATEGORY_HARASSMENT', 'probability_label': 'NEGLIGIBLE', 'blocked': False, 'severity': 'HARM_SEVERITY_NEGLIGIBLE'}, {'category': 'HARM_CATEGORY_SEXUALLY_EXPLICIT', 'probability_label': 'NEGLIGIBLE', 'blocked': False, 'severity': 'HARM_SEVERITY_NEGLIGIBLE'}], 'usage_metadata': {'prompt_token_count': 707, 'candidates_token_count': 54, 'total_token_count': 761}, 'finish_reason': 'STOP'} id='run-da130af4-b926-4c16-aaf9-6d1e3460e8db-0' usage_metadata={'input_tokens': 707, 'output_tokens': 54, 'total_tokens': 761}\n"
     ]
    }
   ],
   "source": [
    "from langchain_core.messages import HumanMessage\n",
    "text_output = text_agent.invoke({\"messages\": [HumanMessage(content=\" Hi! can you capitalise this: banana\")], \"agent_history\": []})\n",
    "comms_outputs = comms_agent.invoke({\"messages\": [HumanMessage(content=\" Hi! how are you? can you capitalise this: banana\")], \"agent_history\": [text_output]})\n",
    "print(text_output)\n",
    "print(comms_outputs)"
   ]
  },
  {
   "attachments": {},
   "cell_type": "markdown",
   "id": "9d98e668",
   "metadata": {},
   "source": [
    "#### Create Supervisor Agent"
   ]
  },
  {
   "attachments": {},
   "cell_type": "markdown",
   "id": "9e096d20",
   "metadata": {},
   "source": [
    "define members of the crew for the supervisor"
   ]
  },
  {
   "cell_type": "code",
   "execution_count": 7,
   "id": "bd672d42",
   "metadata": {},
   "outputs": [],
   "source": [
    "from enum import Enum\n",
    "members = [\"Calculator\", \"TextEditor\", \"Communicate\"]\n",
    "\n",
    "#create options map for the supervisor output parser.\n",
    "member_options = {member:member for member in members}\n",
    "\n",
    "#create Enum object\n",
    "MemberEnum = Enum('MemberEnum', member_options)\n",
    "\n",
    "from pydantic import BaseModel\n",
    "\n",
    "#force Supervisor to pick from options defined above\n",
    "# return a dictionary specifying the next agent to call \n",
    "#under key next.\n",
    "class SupervisorOutput(BaseModel):\n",
    "    #defaults to communication agent\n",
    "    next: MemberEnum = MemberEnum.Communicate"
   ]
  },
  {
   "cell_type": "code",
   "execution_count": 8,
   "id": "3d8b6f26",
   "metadata": {},
   "outputs": [],
   "source": [
    "from langchain_core.prompts import ChatPromptTemplate, MessagesPlaceholder\n",
    "from langchain_core.output_parsers import JsonOutputParser\n",
    "\n",
    "\n",
    "system_prompt = (\n",
    "    \"You are a supervisor tasked with managing a conversation between the\"\n",
    "    \" crew of workers:  {members}. Given the following user request, and crew responses\"\n",
    "    \" respond with the worker to act next.\"\n",
    "    \"Each worker will perform a task and respond with their results and status. When finished with the task,\"\n",
    "    \" route to communicate to deliver the result to user. Given the conversation and crew history below, who should act next?\"\n",
    "            \"Select one of: {options} \"\n",
    "            \"\\n{format_instructions}\\n\"\n",
    ")\n",
    "# Our team supervisor is an LLM node. It just picks the next agent to process\n",
    "# and decides when the work is completed\n",
    "\n",
    "# Using openai function calling can make output parsing easier for us\n",
    "supervisor_parser = JsonOutputParser(pydantic_object=SupervisorOutput)\n",
    "\n",
    "prompt = ChatPromptTemplate.from_messages(\n",
    "    [\n",
    "        (\"system\", system_prompt),\n",
    "        MessagesPlaceholder(variable_name=\"messages\"),\n",
    "        MessagesPlaceholder(variable_name=\"agent_history\")\n",
    "       \n",
    "    ]\n",
    ").partial(options=str(members), members=\", \".join(members), format_instructions = supervisor_parser.get_format_instructions())\n",
    "\n",
    "\n",
    "supervisor_chain = (\n",
    "    prompt | llm |supervisor_parser\n",
    ")"
   ]
  },
  {
   "attachments": {},
   "cell_type": "markdown",
   "id": "3ca5cbd6",
   "metadata": {},
   "source": [
    "Create Crew Node Invocation Function"
   ]
  },
  {
   "cell_type": "code",
   "execution_count": 9,
   "id": "533f38f1",
   "metadata": {},
   "outputs": [],
   "source": [
    "from langchain_core.messages import AIMessage\n",
    "\n",
    "# For agents in the crew \n",
    "def crew_nodes(state, crew_member, name):\n",
    "    \n",
    "    input = {'messages': [state['messages'][-1]], 'agent_history' : state['agent_history']}\n",
    "    result = crew_member.invoke(input)\n",
    "\n",
    "    return {\"agent_history\": [AIMessage(content= result[\"output\"], additional_kwargs= {'intermediate_steps' : result['intermediate_steps']}, name=name)]}\n",
    "\n",
    "def comms_node(state):\n",
    "    input = {'messages': [state['messages'][-1]], 'agent_history' : state['agent_history']}\n",
    "    result = comms_agent.invoke(input)\n",
    "    return {\"messages\": [result]}\n"
   ]
  },
  {
   "attachments": {},
   "cell_type": "markdown",
   "id": "93a232b6",
   "metadata": {},
   "source": [
    "#### Build Graph"
   ]
  },
  {
   "cell_type": "code",
   "execution_count": 10,
   "id": "5dec6106",
   "metadata": {},
   "outputs": [],
   "source": [
    "import operator\n",
    "from typing import Annotated, Sequence, TypedDict\n",
    "import functools\n",
    "from langchain_core.messages import BaseMessage\n",
    "\n",
    "from langgraph.graph import StateGraph, END\n",
    "\n",
    "\n",
    "# The agent state is the input to each node in the graph\n",
    "class AgentState(TypedDict):\n",
    "    # The annotation tells the graph that new messages will always\n",
    "    # be added to the current states\n",
    "    messages: Annotated[Sequence[BaseMessage], operator.add]\n",
    "    # The 'next' field indicates where to route to next\n",
    "    next: str \n",
    "    \n",
    "    agent_history: Annotated[Sequence[BaseMessage], operator.add]\n",
    "\n",
    "\n",
    "math_node = functools.partial(crew_nodes, crew_member=math_agent, name=\"Calculator\")\n",
    "\n",
    "text_node = functools.partial(crew_nodes, crew_member=text_agent, name=\"TextEditor\")\n",
    "\n",
    "\n",
    "\n",
    "\n",
    "workflow = StateGraph(AgentState)\n",
    "\n",
    "workflow.add_node(\"TextEditor\", text_node)\n",
    "workflow.add_node(\"Calculator\", math_node)\n",
    "\n",
    "workflow.add_node(\"Communicate\", comms_node )\n",
    "\n",
    "workflow.add_node(\"Supervisor\", supervisor_chain)"
   ]
  },
  {
   "attachments": {},
   "cell_type": "markdown",
   "id": "cb71904a",
   "metadata": {},
   "source": [
    "#### Add Edges"
   ]
  },
  {
   "cell_type": "code",
   "execution_count": 11,
   "id": "05004b49",
   "metadata": {},
   "outputs": [],
   "source": [
    "\n",
    "workflow.add_edge('TextEditor', \"Supervisor\") # add one edge for each of the agents\n",
    "workflow.add_edge('Calculator', \"Supervisor\") # add one edge for each of the agents\n",
    "\n",
    "workflow.add_edge('Communicate', END) # add one edge for each of the agents\n",
    "\n",
    "\n",
    "# The supervisor populates the \"next\" field in the graph state\n",
    "# which routes to a node or finishes\n",
    "\n",
    "workflow.add_conditional_edges(\"Supervisor\", lambda x: x[\"next\"], member_options)\n",
    "# Finally, add entrypoint\n",
    "workflow.set_entry_point(\"Supervisor\")\n",
    "\n",
    "graph = workflow.compile()"
   ]
  },
  {
   "cell_type": "markdown",
   "id": "dd2c5e61",
   "metadata": {},
   "source": [
    "#### Adding Memory"
   ]
  },
  {
   "cell_type": "code",
   "execution_count": 12,
   "id": "a03cd719",
   "metadata": {},
   "outputs": [],
   "source": [
    "from langgraph.checkpoint import MemorySaver\n",
    "\n",
    "memory = MemorySaver()\n",
    "\n",
    "# Finally, compile the graph! \n",
    "# This compiles it into a LangChain Runnable,\n",
    "graph = workflow.compile(checkpointer = memory)"
   ]
  },
  {
   "cell_type": "markdown",
   "id": "bbb2813a",
   "metadata": {},
   "source": [
    "### Visualise the Graph"
   ]
  },
  {
   "cell_type": "code",
   "execution_count": 13,
   "id": "abc16bf8",
   "metadata": {},
   "outputs": [
    {
     "data": {
      "image/jpeg": "[encoded data removed]",
      "text/plain": [
       "<IPython.core.display.Image object>"
      ]
     },
     "metadata": {},
     "output_type": "display_data"
    }
   ],
   "source": [
    "from IPython.display import Image, display\n",
    "\n",
    "try:\n",
    "    display(Image(graph.get_graph().draw_mermaid_png()))\n",
    "except Exception:\n",
    "    # This requires some extra dependencies and is optional\n",
    "    pass"
   ]
  },
  {
   "cell_type": "code",
   "execution_count": 14,
   "id": "58c0470a",
   "metadata": {},
   "outputs": [
    {
     "name": "stdout",
     "output_type": "stream",
     "text": [
      "{'Supervisor': {'next': 'TextEditor'}}\n",
      "----\n",
      "{'TextEditor': {'agent_history': [AIMessage(content='BANANA \\n', additional_kwargs={'intermediate_steps': [(ToolAgentAction(tool='make_upper_case', tool_input={'text': 'banana'}, log=\"\\nInvoking: `make_upper_case` with `{'text': 'banana'}`\\nresponded: \\n4\\n\\n\", message_log=[AIMessageChunk(content='\\n4', additional_kwargs={'function_call': {'name': 'make_upper_case', 'arguments': '{\"text\": \"banana\"}'}}, response_metadata={'safety_ratings': [{'category': 'HARM_CATEGORY_HATE_SPEECH', 'probability_label': 'NEGLIGIBLE', 'blocked': False, 'severity': 'HARM_SEVERITY_NEGLIGIBLE'}, {'category': 'HARM_CATEGORY_DANGEROUS_CONTENT', 'probability_label': 'NEGLIGIBLE', 'blocked': False, 'severity': 'HARM_SEVERITY_LOW'}, {'category': 'HARM_CATEGORY_HARASSMENT', 'probability_label': 'NEGLIGIBLE', 'blocked': False, 'severity': 'HARM_SEVERITY_NEGLIGIBLE'}, {'category': 'HARM_CATEGORY_SEXUALLY_EXPLICIT', 'probability_label': 'NEGLIGIBLE', 'blocked': False, 'severity': 'HARM_SEVERITY_NEGLIGIBLE'}, {'category': 'HARM_CATEGORY_HATE_SPEECH', 'probability_label': 'NEGLIGIBLE', 'blocked': False, 'severity': 'HARM_SEVERITY_NEGLIGIBLE'}, {'category': 'HARM_CATEGORY_DANGEROUS_CONTENT', 'probability_label': 'NEGLIGIBLE', 'blocked': False, 'severity': 'HARM_SEVERITY_LOW'}, {'category': 'HARM_CATEGORY_HARASSMENT', 'probability_label': 'NEGLIGIBLE', 'blocked': False, 'severity': 'HARM_SEVERITY_NEGLIGIBLE'}, {'category': 'HARM_CATEGORY_SEXUALLY_EXPLICIT', 'probability_label': 'NEGLIGIBLE', 'blocked': False, 'severity': 'HARM_SEVERITY_NEGLIGIBLE'}], 'usage_metadata': {'prompt_token_count': 145, 'candidates_token_count': 9, 'total_token_count': 154}, 'finish_reason': 'STOP'}, id='run-fab14387-d7c1-4354-a87f-e9df9c9ef1ab', tool_calls=[{'name': 'make_upper_case', 'args': {'text': 'banana'}, 'id': 'e6b628c7-89aa-4f6f-bf9c-f634c796183a', 'type': 'tool_call'}], usage_metadata={'input_tokens': 145, 'output_tokens': 9, 'total_tokens': 154}, tool_call_chunks=[{'name': 'make_upper_case', 'args': '{\"text\": \"banana\"}', 'id': 'e6b628c7-89aa-4f6f-bf9c-f634c796183a', 'index': None, 'type': 'tool_call_chunk'}])], tool_call_id='e6b628c7-89aa-4f6f-bf9c-f634c796183a'), 'BANANA')]}, name='TextEditor')]}}\n",
      "----\n",
      "{'Supervisor': {'next': 'Calculator'}}\n",
      "----\n",
      "{'Calculator': {'agent_history': [AIMessage(content=\"4\\nI can't make the text uppercase. \\n\", additional_kwargs={'intermediate_steps': [(ToolAgentAction(tool='multiply', tool_input={'a': 2.0, 'b': 2.0}, log=\"\\nInvoking: `multiply` with `{'a': 2.0, 'b': 2.0}`\\nresponded: \\n4\\nBANANA\\n\\n\", message_log=[AIMessageChunk(content='\\n4\\nBANANA', additional_kwargs={'function_call': {'name': 'multiplymake_upper_case', 'arguments': '{\"a\": 2.0, \"b\": 2.0}{\"text\": \"banana\"}'}}, response_metadata={'safety_ratings': [{'category': 'HARM_CATEGORY_HATE_SPEECH', 'probability_label': 'NEGLIGIBLE', 'blocked': False, 'severity': 'HARM_SEVERITY_NEGLIGIBLE'}, {'category': 'HARM_CATEGORY_DANGEROUS_CONTENT', 'probability_label': 'NEGLIGIBLE', 'blocked': False, 'severity': 'HARM_SEVERITY_NEGLIGIBLE'}, {'category': 'HARM_CATEGORY_HARASSMENT', 'probability_label': 'NEGLIGIBLE', 'blocked': False, 'severity': 'HARM_SEVERITY_NEGLIGIBLE'}, {'category': 'HARM_CATEGORY_SEXUALLY_EXPLICIT', 'probability_label': 'NEGLIGIBLE', 'blocked': False, 'severity': 'HARM_SEVERITY_NEGLIGIBLE'}, {'category': 'HARM_CATEGORY_HATE_SPEECH', 'probability_label': 'NEGLIGIBLE', 'blocked': False, 'severity': 'HARM_SEVERITY_NEGLIGIBLE'}, {'category': 'HARM_CATEGORY_DANGEROUS_CONTENT', 'probability_label': 'NEGLIGIBLE', 'blocked': False, 'severity': 'HARM_SEVERITY_LOW'}, {'category': 'HARM_CATEGORY_HARASSMENT', 'probability_label': 'NEGLIGIBLE', 'blocked': False, 'severity': 'HARM_SEVERITY_NEGLIGIBLE'}, {'category': 'HARM_CATEGORY_SEXUALLY_EXPLICIT', 'probability_label': 'NEGLIGIBLE', 'blocked': False, 'severity': 'HARM_SEVERITY_NEGLIGIBLE'}, {'category': 'HARM_CATEGORY_HATE_SPEECH', 'probability_label': 'NEGLIGIBLE', 'blocked': False, 'severity': 'HARM_SEVERITY_NEGLIGIBLE'}, {'category': 'HARM_CATEGORY_DANGEROUS_CONTENT', 'probability_label': 'NEGLIGIBLE', 'blocked': False, 'severity': 'HARM_SEVERITY_LOW'}, {'category': 'HARM_CATEGORY_HARASSMENT', 'probability_label': 'NEGLIGIBLE', 'blocked': False, 'severity': 'HARM_SEVERITY_NEGLIGIBLE'}, {'category': 'HARM_CATEGORY_SEXUALLY_EXPLICIT', 'probability_label': 'NEGLIGIBLE', 'blocked': False, 'severity': 'HARM_SEVERITY_NEGLIGIBLE'}, {'category': 'HARM_CATEGORY_HATE_SPEECH', 'probability_label': 'NEGLIGIBLE', 'blocked': False, 'severity': 'HARM_SEVERITY_LOW'}, {'category': 'HARM_CATEGORY_DANGEROUS_CONTENT', 'probability_label': 'NEGLIGIBLE', 'blocked': False, 'severity': 'HARM_SEVERITY_LOW'}, {'category': 'HARM_CATEGORY_HARASSMENT', 'probability_label': 'NEGLIGIBLE', 'blocked': False, 'severity': 'HARM_SEVERITY_NEGLIGIBLE'}, {'category': 'HARM_CATEGORY_SEXUALLY_EXPLICIT', 'probability_label': 'NEGLIGIBLE', 'blocked': False, 'severity': 'HARM_SEVERITY_NEGLIGIBLE'}], 'usage_metadata': {'prompt_token_count': 939, 'candidates_token_count': 15, 'total_token_count': 954}, 'finish_reason': 'STOP'}, id='run-b3c5a06f-02b9-4c56-9f51-d5d72a35fd0e', tool_calls=[{'name': 'multiply', 'args': {'a': 2.0, 'b': 2.0}, 'id': '7b35484e-848f-4f44-b329-ae95f1b36984', 'type': 'tool_call'}, {'name': 'make_upper_case', 'args': {'text': 'banana'}, 'id': '64362e87-6db1-43ff-8d61-e06be6704a6f', 'type': 'tool_call'}], usage_metadata={'input_tokens': 939, 'output_tokens': 15, 'total_tokens': 954}, tool_call_chunks=[{'name': 'multiply', 'args': '{\"a\": 2.0, \"b\": 2.0}', 'id': '7b35484e-848f-4f44-b329-ae95f1b36984', 'index': None, 'type': 'tool_call_chunk'}, {'name': 'make_upper_case', 'args': '{\"text\": \"banana\"}', 'id': '64362e87-6db1-43ff-8d61-e06be6704a6f', 'index': None, 'type': 'tool_call_chunk'}])], tool_call_id='7b35484e-848f-4f44-b329-ae95f1b36984'), 4), (ToolAgentAction(tool='make_upper_case', tool_input={'text': 'banana'}, log=\"\\nInvoking: `make_upper_case` with `{'text': 'banana'}`\\nresponded: \\n4\\nBANANA\\n\\n\", message_log=[AIMessageChunk(content='\\n4\\nBANANA', additional_kwargs={'function_call': {'name': 'multiplymake_upper_case', 'arguments': '{\"a\": 2.0, \"b\": 2.0}{\"text\": \"banana\"}'}}, response_metadata={'safety_ratings': [{'category': 'HARM_CATEGORY_HATE_SPEECH', 'probability_label': 'NEGLIGIBLE', 'blocked': False, 'severity': 'HARM_SEVERITY_NEGLIGIBLE'}, {'category': 'HARM_CATEGORY_DANGEROUS_CONTENT', 'probability_label': 'NEGLIGIBLE', 'blocked': False, 'severity': 'HARM_SEVERITY_NEGLIGIBLE'}, {'category': 'HARM_CATEGORY_HARASSMENT', 'probability_label': 'NEGLIGIBLE', 'blocked': False, 'severity': 'HARM_SEVERITY_NEGLIGIBLE'}, {'category': 'HARM_CATEGORY_SEXUALLY_EXPLICIT', 'probability_label': 'NEGLIGIBLE', 'blocked': False, 'severity': 'HARM_SEVERITY_NEGLIGIBLE'}, {'category': 'HARM_CATEGORY_HATE_SPEECH', 'probability_label': 'NEGLIGIBLE', 'blocked': False, 'severity': 'HARM_SEVERITY_NEGLIGIBLE'}, {'category': 'HARM_CATEGORY_DANGEROUS_CONTENT', 'probability_label': 'NEGLIGIBLE', 'blocked': False, 'severity': 'HARM_SEVERITY_LOW'}, {'category': 'HARM_CATEGORY_HARASSMENT', 'probability_label': 'NEGLIGIBLE', 'blocked': False, 'severity': 'HARM_SEVERITY_NEGLIGIBLE'}, {'category': 'HARM_CATEGORY_SEXUALLY_EXPLICIT', 'probability_label': 'NEGLIGIBLE', 'blocked': False, 'severity': 'HARM_SEVERITY_NEGLIGIBLE'}, {'category': 'HARM_CATEGORY_HATE_SPEECH', 'probability_label': 'NEGLIGIBLE', 'blocked': False, 'severity': 'HARM_SEVERITY_NEGLIGIBLE'}, {'category': 'HARM_CATEGORY_DANGEROUS_CONTENT', 'probability_label': 'NEGLIGIBLE', 'blocked': False, 'severity': 'HARM_SEVERITY_LOW'}, {'category': 'HARM_CATEGORY_HARASSMENT', 'probability_label': 'NEGLIGIBLE', 'blocked': False, 'severity': 'HARM_SEVERITY_NEGLIGIBLE'}, {'category': 'HARM_CATEGORY_SEXUALLY_EXPLICIT', 'probability_label': 'NEGLIGIBLE', 'blocked': False, 'severity': 'HARM_SEVERITY_NEGLIGIBLE'}, {'category': 'HARM_CATEGORY_HATE_SPEECH', 'probability_label': 'NEGLIGIBLE', 'blocked': False, 'severity': 'HARM_SEVERITY_LOW'}, {'category': 'HARM_CATEGORY_DANGEROUS_CONTENT', 'probability_label': 'NEGLIGIBLE', 'blocked': False, 'severity': 'HARM_SEVERITY_LOW'}, {'category': 'HARM_CATEGORY_HARASSMENT', 'probability_label': 'NEGLIGIBLE', 'blocked': False, 'severity': 'HARM_SEVERITY_NEGLIGIBLE'}, {'category': 'HARM_CATEGORY_SEXUALLY_EXPLICIT', 'probability_label': 'NEGLIGIBLE', 'blocked': False, 'severity': 'HARM_SEVERITY_NEGLIGIBLE'}], 'usage_metadata': {'prompt_token_count': 939, 'candidates_token_count': 15, 'total_token_count': 954}, 'finish_reason': 'STOP'}, id='run-b3c5a06f-02b9-4c56-9f51-d5d72a35fd0e', tool_calls=[{'name': 'multiply', 'args': {'a': 2.0, 'b': 2.0}, 'id': '7b35484e-848f-4f44-b329-ae95f1b36984', 'type': 'tool_call'}, {'name': 'make_upper_case', 'args': {'text': 'banana'}, 'id': '64362e87-6db1-43ff-8d61-e06be6704a6f', 'type': 'tool_call'}], usage_metadata={'input_tokens': 939, 'output_tokens': 15, 'total_tokens': 954}, tool_call_chunks=[{'name': 'multiply', 'args': '{\"a\": 2.0, \"b\": 2.0}', 'id': '7b35484e-848f-4f44-b329-ae95f1b36984', 'index': None, 'type': 'tool_call_chunk'}, {'name': 'make_upper_case', 'args': '{\"text\": \"banana\"}', 'id': '64362e87-6db1-43ff-8d61-e06be6704a6f', 'index': None, 'type': 'tool_call_chunk'}])], tool_call_id='64362e87-6db1-43ff-8d61-e06be6704a6f'), 'make_upper_case is not a valid tool, try one of [add, multiply, square].')]}, name='Calculator')]}}\n",
      "----\n",
      "{'Supervisor': {'next': 'Communicate'}}\n",
      "----\n",
      "{'Communicate': {'messages': [AIMessage(content='The agent used two tools: `make_upper_case` and `multiply`. \\n\\nFirst, it used `make_upper_case` with the input `\\'banana\\'`. The tool returned `\\'BANANA\\'`. \\n\\nThen, it used `multiply` with the input `{\\'a\\': 2.0, \\'b\\': 2.0}`. The tool returned `4`. \\n\\nThe agent then responded with the following: \\n\\n\"BANANA \\\\n4\" \\n', response_metadata={'safety_ratings': [{'category': 'HARM_CATEGORY_HATE_SPEECH', 'probability_label': 'NEGLIGIBLE', 'blocked': False, 'severity': 'HARM_SEVERITY_NEGLIGIBLE'}, {'category': 'HARM_CATEGORY_DANGEROUS_CONTENT', 'probability_label': 'NEGLIGIBLE', 'blocked': False, 'severity': 'HARM_SEVERITY_NEGLIGIBLE'}, {'category': 'HARM_CATEGORY_HARASSMENT', 'probability_label': 'NEGLIGIBLE', 'blocked': False, 'severity': 'HARM_SEVERITY_NEGLIGIBLE'}, {'category': 'HARM_CATEGORY_SEXUALLY_EXPLICIT', 'probability_label': 'NEGLIGIBLE', 'blocked': False, 'severity': 'HARM_SEVERITY_NEGLIGIBLE'}, {'category': 'HARM_CATEGORY_HATE_SPEECH', 'probability_label': 'NEGLIGIBLE', 'blocked': False, 'severity': 'HARM_SEVERITY_NEGLIGIBLE'}, {'category': 'HARM_CATEGORY_DANGEROUS_CONTENT', 'probability_label': 'NEGLIGIBLE', 'blocked': False, 'severity': 'HARM_SEVERITY_NEGLIGIBLE'}, {'category': 'HARM_CATEGORY_HARASSMENT', 'probability_label': 'NEGLIGIBLE', 'blocked': False, 'severity': 'HARM_SEVERITY_NEGLIGIBLE'}, {'category': 'HARM_CATEGORY_SEXUALLY_EXPLICIT', 'probability_label': 'NEGLIGIBLE', 'blocked': False, 'severity': 'HARM_SEVERITY_NEGLIGIBLE'}, {'category': 'HARM_CATEGORY_HATE_SPEECH', 'probability_label': 'NEGLIGIBLE', 'blocked': False, 'severity': 'HARM_SEVERITY_NEGLIGIBLE'}, {'category': 'HARM_CATEGORY_DANGEROUS_CONTENT', 'probability_label': 'NEGLIGIBLE', 'blocked': False, 'severity': 'HARM_SEVERITY_NEGLIGIBLE'}, {'category': 'HARM_CATEGORY_HARASSMENT', 'probability_label': 'NEGLIGIBLE', 'blocked': False, 'severity': 'HARM_SEVERITY_NEGLIGIBLE'}, {'category': 'HARM_CATEGORY_SEXUALLY_EXPLICIT', 'probability_label': 'NEGLIGIBLE', 'blocked': False, 'severity': 'HARM_SEVERITY_NEGLIGIBLE'}, {'category': 'HARM_CATEGORY_HATE_SPEECH', 'probability_label': 'NEGLIGIBLE', 'blocked': False, 'severity': 'HARM_SEVERITY_NEGLIGIBLE'}, {'category': 'HARM_CATEGORY_DANGEROUS_CONTENT', 'probability_label': 'NEGLIGIBLE', 'blocked': False, 'severity': 'HARM_SEVERITY_NEGLIGIBLE'}, {'category': 'HARM_CATEGORY_HARASSMENT', 'probability_label': 'NEGLIGIBLE', 'blocked': False, 'severity': 'HARM_SEVERITY_NEGLIGIBLE'}, {'category': 'HARM_CATEGORY_SEXUALLY_EXPLICIT', 'probability_label': 'NEGLIGIBLE', 'blocked': False, 'severity': 'HARM_SEVERITY_NEGLIGIBLE'}, {'category': 'HARM_CATEGORY_HATE_SPEECH', 'probability_label': 'NEGLIGIBLE', 'blocked': False, 'severity': 'HARM_SEVERITY_NEGLIGIBLE'}, {'category': 'HARM_CATEGORY_DANGEROUS_CONTENT', 'probability_label': 'NEGLIGIBLE', 'blocked': False, 'severity': 'HARM_SEVERITY_NEGLIGIBLE'}, {'category': 'HARM_CATEGORY_HARASSMENT', 'probability_label': 'NEGLIGIBLE', 'blocked': False, 'severity': 'HARM_SEVERITY_NEGLIGIBLE'}, {'category': 'HARM_CATEGORY_SEXUALLY_EXPLICIT', 'probability_label': 'NEGLIGIBLE', 'blocked': False, 'severity': 'HARM_SEVERITY_NEGLIGIBLE'}], 'usage_metadata': {'prompt_token_count': 3604, 'candidates_token_count': 104, 'total_token_count': 3708}, 'finish_reason': 'STOP'}, id='run-8af7ebee-3286-4a5d-97d0-d0eaeb1a97d7-0', usage_metadata={'input_tokens': 3604, 'output_tokens': 104, 'total_tokens': 3708})]}}\n",
      "----\n"
     ]
    }
   ],
   "source": [
    "config = {\"configurable\": {\"thread_id\": \"0\"}}\n",
    "from pprint import pp\n",
    "for s in graph.stream(\n",
    "    {\n",
    "        \"messages\": [\n",
    "            HumanMessage(content=\"Hi! can you make the following text all upper case: 'banana' and tell me what 2*2 is?\")\n",
    "        ]\n",
    "    }, config=config\n",
    "):\n",
    "    if \"__end__\" not in s:\n",
    "        pp(s)\n",
    "        print(\"----\")"
   ]
  },
  {
   "cell_type": "code",
   "execution_count": null,
   "id": "781aa3cd",
   "metadata": {},
   "outputs": [],
   "source": []
  }
 ],
 "metadata": {
  "kernelspec": {
   "display_name": "Python 3 (ipykernel)",
   "language": "python",
   "name": "python3"
  },
  "language_info": {
   "codemirror_mode": {
    "name": "ipython",
    "version": 3
   },
   "file_extension": ".py",
   "mimetype": "text/x-python",
   "name": "python",
   "nbconvert_exporter": "python",
   "pygments_lexer": "ipython3",
   "version": "3.11.9"
  }
 },
 "nbformat": 4,
 "nbformat_minor": 5
}
